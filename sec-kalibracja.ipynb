{
 "cells": [
  {
   "cell_type": "code",
   "execution_count": 54,
   "metadata": {},
   "outputs": [
    {
     "name": "stdout",
     "output_type": "stream",
     "text": [
      "Kalibracja data...\n",
      "a=-1.09 b=14.63\n",
      "R^2=0.995\n"
     ]
    },
    {
     "data": {
      "image/png": "[encoded data removed]",
      "text/plain": [
       "<matplotlib.figure.Figure at 0x28c9e794908>"
      ]
     },
     "metadata": {},
     "output_type": "display_data"
    }
   ],
   "source": [
    "# Kalibracja SEC\n",
    "\n",
    "import matplotlib.pyplot as plt\n",
    "import numpy as np\n",
    "from scipy import stats\n",
    "\n",
    "%matplotlib inline\n",
    "\n",
    "\n",
    "#-------------------------------------------------------------------\n",
    "kalibracja_info = \"Kalibracja data...\"\n",
    "\n",
    "# dane do kalibracji: czas retencji, położenie maksiumum piku wzorca\n",
    "dane = np.array([\n",
    "[11.5,150.00],\n",
    "[10.49,1500.00],\n",
    "[9.95,6000.00],\n",
    "[9.74,10000.00],\n",
    "[9.36,35000.00]\n",
    "])\n",
    "# ------------------------------------------------------------------\n",
    "\n",
    "\n",
    "x = dane[:,0]\n",
    "y = np.log10(dane[:,1])\n",
    "a,b,r_value,p_value,std_err=stats.linregress(x,y)\n",
    "fig = plt.figure()\n",
    "ax = fig.add_subplot(111)\n",
    "ax.plot(x, a*x+b,':')\n",
    "ax.plot(x,y,'o')\n",
    "ax.set_xlabel('Czas retencji, min')\n",
    "ax.set_ylabel('log(M)')\n",
    "ax.text(0.6,0.8,\"{}\\na={:.2f} b={:.2f}\\nR^2={:.3f}\".format(kalibracja_info, a, b, r_value**2),transform=ax.transAxes)\n",
    "fig.savefig('kalibracja.png', dpi=300)\n",
    "print(\"{}\\na={:.2f} b={:.2f}\\nR^2={:.3f}\".format(kalibracja_info, a, b, r_value**2))"
   ]
  },
  {
   "cell_type": "code",
   "execution_count": null,
   "metadata": {},
   "outputs": [],
   "source": []
  }
 ],
 "metadata": {
  "kernelspec": {
   "display_name": "Python 3",
   "language": "python",
   "name": "python3"
  },
  "language_info": {
   "codemirror_mode": {
    "name": "ipython",
    "version": 3
   },
   "file_extension": ".py",
   "mimetype": "text/x-python",
   "name": "python",
   "nbconvert_exporter": "python",
   "pygments_lexer": "ipython3",
   "version": "3.6.4"
  }
 },
 "nbformat": 4,
 "nbformat_minor": 2
}
